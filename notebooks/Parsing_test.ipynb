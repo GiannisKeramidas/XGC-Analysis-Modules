{
 "cells": [
  {
   "cell_type": "code",
   "execution_count": 1,
   "metadata": {
    "collapsed": true
   },
   "outputs": [],
   "source": [
    "%matplotlib inline\n",
    "import numpy as np\n",
    "#%config InlineBackend.figure_format = 'retina'\n",
    "import matplotlib.pyplot as plt\n",
    "import matplotlib.font_manager as fm\n",
    "import matplotlib.ticker as mtick\n",
    "from decimal import Decimal\n",
    "plt.style.use('ggplot')\n",
    "path = 'C:\\\\WINDOWS\\\\Fonts\\\\BOOKOS.TTF'\n",
    "prop = fm.FontProperties(fname=path)\n",
    "plt.rcParams['font.family'] = prop.get_name()\n",
    "plt.rcParams['font.size'] = 20\n",
    "plt.rcParams['axes.labelsize'] = 20\n",
    "plt.rcParams['axes.labelweight'] = 'heavy'\n",
    "plt.rcParams['xtick.labelsize'] = 14\n",
    "plt.rcParams['ytick.labelsize'] = 12\n",
    "plt.rcParams['legend.fontsize'] = 10\n",
    "plt.rcParams['figure.titlesize'] = 12\n",
    "plt.rcParams['text.usetex']=True\n",
    "plt.rcParams['text.latex.preamble']=[r'\\usepackage{amsmath}',\n",
    "          r'\\usepackage{xfrac}']"
   ]
  },
  {
   "cell_type": "code",
   "execution_count": null,
   "metadata": {},
   "outputs": [],
   "source": [
    "# %load Parsing.py\n",
    "import numpy as np\n",
    "import math\n",
    "import pylab as py\n",
    "import matplotlib.pyplot as plt\n",
    "import sys\n",
    "import numpy.ma as ma\n",
    "from decimal import Decimal\n",
    "import argparse\n",
    "\n",
    "parser = argparse.ArgumentParser(description='Choose between two functions.')\n",
    "\n",
    "parser.add_argument('function', help='function name')\n",
    "parser.add_argument('x', type=float,help='first argument passed')\n",
    "parser.add_argument('y', type=float,help='second argument passed')\n",
    "args = parser.parse_args()\n",
    "\n",
    "def first(a,b):\n",
    "    answer = a+b\n",
    "    print(\"first function, sum = \", answer)\n",
    "\n",
    "def second(a,b):\n",
    "    answer = a*b\n",
    "    print(\"second function, product = \",answer)\n",
    "\n",
    "locals()[args.function](args.x, args.y)"
   ]
  },
  {
   "cell_type": "code",
   "execution_count": 4,
   "metadata": {},
   "outputs": [
    {
     "name": "stdout",
     "output_type": "stream",
     "text": [
      "usage: Parsing.py [-h] function x y\n",
      "\n",
      "Choose between two functions.\n",
      "\n",
      "positional arguments:\n",
      "  function    function name. Options to use: first(a,b) , second(a,b), third,\n",
      "              fourth, fifth, sixth, seventh, eighth, ninth, tenth, eleventh,\n",
      "              twelveth...\n",
      "  x           first argument passed\n",
      "  y           second argument passed\n",
      "\n",
      "optional arguments:\n",
      "  -h, --help  show this help message and exit\n"
     ]
    }
   ],
   "source": [
    "%run Parsing.py -h"
   ]
  },
  {
   "cell_type": "code",
   "execution_count": null,
   "metadata": {
    "collapsed": true
   },
   "outputs": [],
   "source": []
  }
 ],
 "metadata": {
  "kernelspec": {
   "display_name": "Python [default]",
   "language": "python",
   "name": "python3"
  },
  "language_info": {
   "codemirror_mode": {
    "name": "ipython",
    "version": 3
   },
   "file_extension": ".py",
   "mimetype": "text/x-python",
   "name": "python",
   "nbconvert_exporter": "python",
   "pygments_lexer": "ipython3",
   "version": "3.5.2"
  }
 },
 "nbformat": 4,
 "nbformat_minor": 1
}
