{
 "cells": [
  {
   "cell_type": "code",
   "execution_count": 1,
   "metadata": {
    "collapsed": true
   },
   "outputs": [],
   "source": [
    "%matplotlib inline\n",
    "import numpy as np\n",
    "#%config InlineBackend.figure_format = 'retina'\n",
    "import matplotlib.pyplot as plt\n",
    "import matplotlib.font_manager as fm\n",
    "import matplotlib.ticker as mtick\n",
    "from mpl_toolkits.mplot3d import Axes3D\n",
    "from matplotlib import cm\n",
    "from matplotlib.ticker import LinearLocator, FormatStrFormatter\n",
    "from decimal import Decimal\n",
    "import scipy\n",
    "from scipy import special\n",
    "from scipy.integrate import trapz, simps\n",
    "plt.style.use('ggplot')\n",
    "plt.rcParams['font.size'] = 20\n",
    "plt.rcParams['axes.labelsize'] = 20\n",
    "plt.rcParams['axes.labelweight'] = 'heavy'\n",
    "plt.rcParams['xtick.labelsize'] = 14\n",
    "plt.rcParams['ytick.labelsize'] = 12\n",
    "plt.rcParams['legend.fontsize'] = 10\n",
    "plt.rcParams['figure.titlesize'] = 12\n",
    "m_i = 2*1.6723e-27\n",
    "k = 1.38e-23\n",
    "joule_conv = 1.602e-19\n",
    "charge = 1.602176e-19 "
   ]
  },
  {
   "cell_type": "code",
   "execution_count": 16,
   "metadata": {
    "collapsed": true
   },
   "outputs": [],
   "source": [
    "#reads poloidal and total B\n",
    "def magnetic_read():\n",
    "    magnetic_file_sep = open(\"Sep_Mag_field.txt\",'r')\n",
    "    next(magnetic_file_sep)\n",
    "    \n",
    "    angle_m = []\n",
    "    Bp = []\n",
    "    B = []\n",
    "    \n",
    "    for columns in (raw.strip().split() for raw in magnetic_file_sep):  \n",
    "        angle_m.append(float(columns[0]))\n",
    "        Bp.append(float(columns[1]))\n",
    "        B.append(float(columns[2]))\n",
    "    \n",
    "    return angle_m,np.asarray(Bp),np.asarray(B)\n",
    "angle_m,Bp,B = magnetic_read()"
   ]
  },
  {
   "cell_type": "code",
   "execution_count": 17,
   "metadata": {},
   "outputs": [
    {
     "data": {
      "text/plain": [
       "360"
      ]
     },
     "execution_count": 17,
     "metadata": {},
     "output_type": "execute_result"
    }
   ],
   "source": [
    "len(Bp)"
   ]
  },
  {
   "cell_type": "code",
   "execution_count": 3,
   "metadata": {
    "collapsed": true
   },
   "outputs": [],
   "source": [
    "#reads magnetic components\n",
    "def magnetic_comp_read():\n",
    "    magnetic_comp_file = open(\"Mag_components.txt\",'r')\n",
    "    next(magnetic_comp_file)\n",
    "    \n",
    "    angle_comp = []\n",
    "    Br = []\n",
    "    Bz = []\n",
    "    \n",
    "    for columns in (raw.strip().split() for raw in magnetic_comp_file):  \n",
    "        angle_comp.append(float(columns[0]))\n",
    "        Br.append(float(columns[1]))\n",
    "        Bz.append(float(columns[2]))\n",
    "    return angle_comp,np.asarray(Br),np.asarray(Bz)\n",
    "\n",
    "angle_comp, Br, Bz = magnetic_comp_read()"
   ]
  },
  {
   "cell_type": "code",
   "execution_count": 4,
   "metadata": {
    "collapsed": true
   },
   "outputs": [],
   "source": [
    "#reads magnetic grad drifts\n",
    "def magnetic_grad_read():\n",
    "    magnetic_comp_file = open(\"Mag_grad_drifts.txt\",'r')\n",
    "    next(magnetic_comp_file)\n",
    "    \n",
    "    #angle_comp = []\n",
    "    gradBR = []\n",
    "    gradBZ = []\n",
    "    #Bzeta = []\n",
    "    \n",
    "    for columns in (raw.strip().split() for raw in magnetic_comp_file):  \n",
    "        #angle_comp.append(float(columns[0]))\n",
    "        gradBR.append(float(columns[1]))\n",
    "        gradBZ.append(float(columns[2]))\n",
    "    return np.asarray(gradBR),np.asarray(gradBZ)\n",
    "\n",
    "gradBR_geom, gradBZ_geom = magnetic_grad_read()"
   ]
  },
  {
   "cell_type": "code",
   "execution_count": 5,
   "metadata": {
    "collapsed": true
   },
   "outputs": [],
   "source": [
    "#reads magnetic curv drifts\n",
    "def magnetic_curv_read():\n",
    "    magnetic_comp_file = open(\"Mag_curv_drifts.txt\",'r')\n",
    "    next(magnetic_comp_file)\n",
    "    \n",
    "    curvR = []\n",
    "    curvZ = []\n",
    "    \n",
    "    for columns in (raw.strip().split() for raw in magnetic_comp_file):  \n",
    "        curvR.append(float(columns[1]))\n",
    "        curvZ.append(float(columns[2]))\n",
    "    return np.asarray(curvR),np.asarray(curvZ)\n",
    "\n",
    "curvR_geom, curvZ_geom = magnetic_curv_read()"
   ]
  },
  {
   "cell_type": "code",
   "execution_count": 6,
   "metadata": {
    "collapsed": true
   },
   "outputs": [],
   "source": [
    "#reads perpendicular and parallel Ti\n",
    "def ion_temp_read():\n",
    "    file = open(\"Ion_temperatures.txt\",'r')\n",
    "    next(file)\n",
    "    \n",
    "    angle_tmp = []\n",
    "    T_perp = []\n",
    "    E_para = []\n",
    "    \n",
    "    for columns in (raw.strip().split() for raw in file):  \n",
    "        angle_tmp.append(float(columns[0]))\n",
    "        T_perp.append(float(columns[1]))\n",
    "        E_para.append(float(columns[2]))\n",
    "    \n",
    "    return angle_tmp,T_perp,E_para\n",
    "angle_tmp,T_perp,T_para = ion_temp_read()\n",
    "T_perp = np.asarray([x for x in T_perp])\n",
    "T_para = np.asarray([2*x for x in T_para])"
   ]
  },
  {
   "cell_type": "code",
   "execution_count": 10,
   "metadata": {
    "collapsed": true
   },
   "outputs": [],
   "source": [
    "V_perp_2 = (joule_conv*T_perp)/m_i\n",
    "V_par_2 = (joule_conv*T_para)/m_i\n",
    "Omega = (charge*B/(m_i))\n",
    "mu = (0.5*m_i*V_perp_2)/B\n",
    "gb = (joule_conv*T_perp)/(m_i*Omega)\n",
    "cd = (joule_conv*T_para)/(m_i*Omega)"
   ]
  },
  {
   "cell_type": "code",
   "execution_count": 11,
   "metadata": {
    "collapsed": true
   },
   "outputs": [],
   "source": [
    "curvR = curvR_geom*(V_par_2/Omega)\n",
    "curvZ = curvZ_geom*(V_par_2/Omega)\n",
    "gradBR = gradBR_geom*(mu/(m_i*Omega))\n",
    "gradBZ = gradBZ_geom*(mu/(m_i*Omega))\n",
    "curvR2 = curvR_geom*cd\n",
    "curvZ2 = curvZ_geom*cd\n",
    "gradBR2 = gradBR_geom*gb\n",
    "gradBZ2 = gradBZ_geom*gb"
   ]
  },
  {
   "cell_type": "code",
   "execution_count": 12,
   "metadata": {
    "collapsed": true
   },
   "outputs": [],
   "source": [
    "#reads densities\n",
    "def densities_read():\n",
    "    file = open(\"Sep_densities.txt\",'r')\n",
    "    next(file)\n",
    "    \n",
    "    den = []\n",
    "    \n",
    "    for columns in (raw.strip().split() for raw in file):  \n",
    "        den.append(float(columns[1]))\n",
    "    return np.asarray(den)\n",
    "\n",
    "den = densities_read()"
   ]
  },
  {
   "cell_type": "code",
   "execution_count": 61,
   "metadata": {
    "collapsed": true
   },
   "outputs": [],
   "source": [
    "Mag_geom_R = gradBR_geom+curvR_geom\n",
    "Mag_geom_Z = gradBZ_geom+curvZ_geom\n",
    "Mag_geom = -(Bz*Mag_geom_R - Br*Mag_geom_Z)/Bp\n",
    "Mag_R_flux = den*(gradBR+curvR)\n",
    "Mag_Z_flux = den*(gradBZ+curvZ)\n",
    "Mag_Flux = (Bz*Mag_R_flux - Br*Mag_Z_flux)/Bp\n",
    "Mag_R_flux2 = den*(gradBR2+curvR2)\n",
    "Mag_Z_flux2 = den*(gradBZ2+curvZ2)\n",
    "Mag_Flux2 = (Bz*Mag_R_flux2 - Br*Mag_Z_flux2)/Bp"
   ]
  },
  {
   "cell_type": "code",
   "execution_count": 8,
   "metadata": {
    "collapsed": true
   },
   "outputs": [],
   "source": [
    "def total_read():\n",
    "    total_file_sep = open(\"ti255_Sep_fluxes_total.txt\",'r')\n",
    "    next(total_file_sep)\n",
    "    \n",
    "    angle=[]\n",
    "    Eq=[]\n",
    "    Tur=[]\n",
    "    R=[]\n",
    "    Z=[]\n",
    "    \n",
    "    for columns in (raw.strip().split() for raw in total_file_sep):  \n",
    "        angle.append(float(columns[0]))\n",
    "        Eq.append(float(columns[1]))\n",
    "        Tur.append(float(columns[2]))\n",
    "        R.append(float(columns[3]))\n",
    "        Z.append(float(columns[4]))\n",
    "    return angle,Eq,Tur,R,Z\n",
    "\n",
    "angle,Eq,Tur,R_s,Z_s = total_read()"
   ]
  },
  {
   "cell_type": "code",
   "execution_count": 3,
   "metadata": {
    "collapsed": true
   },
   "outputs": [],
   "source": [
    "def total_mag_read():\n",
    "    total_file_sep = open(\"Mag_flux_total_new.txt\",'r')\n",
    "    next(total_file_sep)\n",
    "    \n",
    "    angle_s=[]\n",
    "    Mag_s=[]\n",
    "    R_s=[]\n",
    "    Z_s=[]\n",
    "    \n",
    "    for columns in (raw.strip().split() for raw in total_file_sep):  \n",
    "        angle_s.append(float(columns[0]))\n",
    "        Mag_s.append(float(columns[1]))\n",
    "        R_s.append(float(columns[2]))\n",
    "        Z_s.append(float(columns[3]))\n",
    "    return angle_s,Mag_s,R_s,Z_s"
   ]
  },
  {
   "cell_type": "code",
   "execution_count": 4,
   "metadata": {
    "collapsed": true
   },
   "outputs": [],
   "source": [
    "angle_s,Mag_s,R_s,Z_s = total_mag_read()"
   ]
  },
  {
   "cell_type": "code",
   "execution_count": 5,
   "metadata": {},
   "outputs": [
    {
     "data": {
      "image/png": "[encoded data removed]",
      "text/plain": [
       "<matplotlib.figure.Figure at 0x283b9ce2630>"
      ]
     },
     "metadata": {},
     "output_type": "display_data"
    }
   ],
   "source": [
    "new_an = np.arctan2(Z_s,R_s)\n",
    "Magx,Magy = Mag_s*np.cos(new_an), Mag_s*np.sin(new_an)\n",
    "#plt.title('Equilibrium $e^{-}$ Heat Flux around the Separatrix')\n",
    "#plt.title('Equilibrium Flux around the Inner Flux Surface')\n",
    "plt.figure(figsize=(10,10))\n",
    "plt.quiver(R_s, Z_s, Magx, Magy, Mag_s, alpha=.5)\n",
    "plt.quiver(R_s, Z_s, Magx, Magy, edgecolor='k', facecolor='None', linewidth=.5)\n",
    "plt.xlabel('R(m)')\n",
    "plt.ylabel('Z(m)')\n",
    "plt.xlim(-0.6,0.8)\n",
    "plt.ylim(-1.2,1.1)\n",
    "plt.axes().set_aspect(0.99)\n",
    "plt.show()"
   ]
  },
  {
   "cell_type": "code",
   "execution_count": 6,
   "metadata": {
    "collapsed": true
   },
   "outputs": [],
   "source": [
    "def smoothing_alg(L):\n",
    "    LF = np.roll(L,1)\n",
    "    LB = np.roll(L,-1)\n",
    "    LFF = np.roll(L,2)\n",
    "    LBB = np.roll(L,-1)\n",
    "    newL = (2.0*(LF + LB)+LFF+LBB)/6.0\n",
    "    return newL"
   ]
  },
  {
   "cell_type": "code",
   "execution_count": 7,
   "metadata": {
    "collapsed": true
   },
   "outputs": [],
   "source": [
    "def smooth(L):\n",
    "    sL = L\n",
    "    for i in range(0,30):\n",
    "        sL = smoothing_alg(sL)\n",
    "    return sL"
   ]
  },
  {
   "cell_type": "code",
   "execution_count": 8,
   "metadata": {
    "collapsed": true
   },
   "outputs": [],
   "source": [
    "#Eq = np.asarray(Eq)\n",
    "#Tur = np.asarray(Tur)\n",
    "#Mag2 = -np.asarray(Mag_Flux2)\n",
    "#SEq = smooth(Eq)\n",
    "#STur = smooth(Tur)\n",
    "SMag = np.asarray(smooth(Mag_s))\n",
    "#SMag2 = -smooth(Mag_Flux2)\n",
    "#SMag_geom = smooth(Mag_geom)"
   ]
  },
  {
   "cell_type": "code",
   "execution_count": 16,
   "metadata": {
    "collapsed": true
   },
   "outputs": [],
   "source": [
    "epsilon = 0.347\n",
    "def an_dep2(x):\n",
    "    A = 1/2*np.sqrt(epsilon)*np.sin((np.pi)*x/180.0)/(np.sqrt(1+np.cos((np.pi)*x/180.0)))\n",
    "    return A"
   ]
  },
  {
   "cell_type": "code",
   "execution_count": 17,
   "metadata": {},
   "outputs": [
    {
     "name": "stderr",
     "output_type": "stream",
     "text": [
      "C:\\Users\\giannis\\Anaconda3\\lib\\site-packages\\ipykernel\\__main__.py:3: RuntimeWarning: divide by zero encountered in double_scalars\n",
      "  app.launch_new_instance()\n"
     ]
    }
   ],
   "source": [
    "A = []\n",
    "for an in range(0,180):\n",
    "    A.append(-an_dep2(an))\n",
    "for an in range(180,360):\n",
    "    A.append(an_dep2(an))\n",
    "    \n",
    "Trapped = SMag*np.asarray(A)\n",
    "Trapped2 = SMag2*np.asarray(A)\n",
    "\n",
    "angle_trap = list(reversed(angle))"
   ]
  },
  {
   "cell_type": "code",
   "execution_count": 18,
   "metadata": {
    "collapsed": true
   },
   "outputs": [],
   "source": [
    "frt = np.sqrt(1-(B/np.amax(B)))\n",
    "dtheta = (2*np.pi/180.)*angle[1]-(2*np.pi/180.)*angle[0]\n",
    "frtplus = np.roll(frt,-1)\n",
    "frtminus = np.roll(frt,+1)\n",
    "dfrtdtheta = (frtplus-frtminus)/(2.*dtheta)\n",
    "dfrtdtheta[0] = (frt[1]-frt[0])/dtheta\n",
    "dfrtdtheta[-1] = (frt[-1]-frt[-2])/dtheta\n",
    "g = -dfrtdtheta\n",
    "Trapped3 = g*SMag2 "
   ]
  },
  {
   "cell_type": "code",
   "execution_count": 19,
   "metadata": {},
   "outputs": [
    {
     "data": {
      "text/plain": [
       "360"
      ]
     },
     "execution_count": 19,
     "metadata": {},
     "output_type": "execute_result"
    }
   ],
   "source": [
    "dGdth = []\n",
    "for i in range(1,359):\n",
    "    dGdth.append((frt[i+1]-frt[i-1])/((2*np.pi/180.)*angle[i+1]-(2*np.pi/180.)*angle[i-1]))\n",
    "dGdth.append((frt[1]-frt[0])/((2*np.pi/180.)*angle[1]-(2*np.pi/180.)*angle[0]))\n",
    "dGdth = dGdth + [(frt[-1]-frt[-2])/((2*np.pi/180.)*angle[-1]-(2*np.pi/180.)*angle[-2])]\n",
    "dGdth = np.asarray(dGdth)\n",
    "Trapped4 = smooth(dGdth)[0:180]*SMag[0:180]\n",
    "Trapped44 = -smooth(dGdth)[180:]*SMag[180:]\n",
    "Trapped444 = []\n",
    "for elem in Trapped4:\n",
    "    Trapped444.append(elem)\n",
    "for elem in Trapped44:\n",
    "    Trapped444.append(elem)\n",
    "len(Trapped444)    "
   ]
  },
  {
   "cell_type": "code",
   "execution_count": 20,
   "metadata": {},
   "outputs": [
    {
     "ename": "NameError",
     "evalue": "name 'g22' is not defined",
     "output_type": "error",
     "traceback": [
      "\u001b[1;31m---------------------------------------------------------------------------\u001b[0m",
      "\u001b[1;31mNameError\u001b[0m                                 Traceback (most recent call last)",
      "\u001b[1;32m<ipython-input-20-8ba9d3167feb>\u001b[0m in \u001b[0;36m<module>\u001b[1;34m()\u001b[0m\n\u001b[0;32m      5\u001b[0m \u001b[0mplt\u001b[0m\u001b[1;33m.\u001b[0m\u001b[0mplot\u001b[0m\u001b[1;33m(\u001b[0m\u001b[0mx\u001b[0m\u001b[1;33m,\u001b[0m \u001b[0msmooth\u001b[0m\u001b[1;33m(\u001b[0m\u001b[0mg\u001b[0m\u001b[1;33m[\u001b[0m\u001b[1;36m0\u001b[0m\u001b[1;33m:\u001b[0m\u001b[1;36m180\u001b[0m\u001b[1;33m]\u001b[0m\u001b[1;33m)\u001b[0m\u001b[1;33m,\u001b[0m\u001b[1;34m\"r\"\u001b[0m\u001b[1;33m)\u001b[0m\u001b[1;33m\u001b[0m\u001b[0m\n\u001b[0;32m      6\u001b[0m \u001b[0mplt\u001b[0m\u001b[1;33m.\u001b[0m\u001b[0mplot\u001b[0m\u001b[1;33m(\u001b[0m\u001b[0mx\u001b[0m\u001b[1;33m,\u001b[0m \u001b[0man_dep2\u001b[0m\u001b[1;33m(\u001b[0m\u001b[0mx\u001b[0m\u001b[1;33m)\u001b[0m\u001b[1;33m,\u001b[0m\u001b[1;34m\"b\"\u001b[0m\u001b[1;33m)\u001b[0m\u001b[1;33m\u001b[0m\u001b[0m\n\u001b[1;32m----> 7\u001b[1;33m \u001b[0mplt\u001b[0m\u001b[1;33m.\u001b[0m\u001b[0mplot\u001b[0m\u001b[1;33m(\u001b[0m\u001b[0mangle\u001b[0m\u001b[1;33m[\u001b[0m\u001b[1;36m0\u001b[0m\u001b[1;33m:\u001b[0m\u001b[1;36m180\u001b[0m\u001b[1;33m]\u001b[0m\u001b[1;33m,\u001b[0m\u001b[0msmooth\u001b[0m\u001b[1;33m(\u001b[0m\u001b[0mg22\u001b[0m\u001b[1;33m[\u001b[0m\u001b[1;36m0\u001b[0m\u001b[1;33m:\u001b[0m\u001b[1;36m180\u001b[0m\u001b[1;33m]\u001b[0m\u001b[1;33m)\u001b[0m\u001b[1;33m,\u001b[0m\u001b[1;34m\"m\"\u001b[0m\u001b[1;33m)\u001b[0m\u001b[1;33m\u001b[0m\u001b[0m\n\u001b[0m\u001b[0;32m      8\u001b[0m \u001b[1;31m#plt.plot(angle,g3,\"g\")\u001b[0m\u001b[1;33m\u001b[0m\u001b[1;33m\u001b[0m\u001b[0m\n\u001b[0;32m      9\u001b[0m \u001b[1;31m#plt.plot(angle, frt,\"y\")\u001b[0m\u001b[1;33m\u001b[0m\u001b[1;33m\u001b[0m\u001b[0m\n",
      "\u001b[1;31mNameError\u001b[0m: name 'g22' is not defined"
     ]
    },
    {
     "data": {
      "image/png": "[encoded data removed]",
      "text/plain": [
       "<matplotlib.figure.Figure at 0x25e1cfca748>"
      ]
     },
     "metadata": {},
     "output_type": "display_data"
    }
   ],
   "source": [
    "x = np.arange(0,180)\n",
    "#plt.plot(angle,B,\"r\")\n",
    "#plt.plot(angle,Bc,\"b\")\n",
    "plt.plot(angle,-smooth(dGdth),\"g\")\n",
    "plt.plot(x, smooth(g[0:180]),\"r\")\n",
    "plt.plot(x, an_dep2(x),\"b\")\n",
    "plt.plot(angle[0:180],smooth(g22[0:180]),\"m\")\n",
    "#plt.plot(angle,g3,\"g\")\n",
    "#plt.plot(angle, frt,\"y\")\n",
    "plt.show()"
   ]
  },
  {
   "cell_type": "code",
   "execution_count": 27,
   "metadata": {},
   "outputs": [
    {
     "data": {
      "image/png": "[encoded data removed]",
      "text/plain": [
       "<matplotlib.figure.Figure at 0x1b420b058d0>"
      ]
     },
     "metadata": {},
     "output_type": "display_data"
    }
   ],
   "source": [
    "plt.figure()\n",
    "plt.plot(angle,SEq,'b',label='Equilibrium')\n",
    "plt.plot(angle,STur,'r',label='Turbulent')\n",
    "plt.plot(angle_s,SMag,'g',label='Magnetic')\n",
    "#plt.plot(angle,SMag2,'g',label='Magnetic')\n",
    "#plt.plot(angle_trap,Trapped,'y',label='Trapped')\n",
    "#plt.plot(angle_trap,Trapped2,'y',label='Trapped')\n",
    "#plt.plot(angle_trap,np.asarray(Trapped444),'m',label='Trapped2')\n",
    "plt.axvline(x=261,color='k',linestyle='--')\n",
    "plt.axvline(x=90,color='k',linestyle='--')\n",
    "plt.annotate('HFS', xy=(0.3,0.5),xytext=(0.4, 0.5),textcoords='axes fraction')\n",
    "plt.annotate('LFS', xy=(0.3,0.5),xytext=(0.8, 0.2),textcoords='axes fraction')\n",
    "plt.annotate('LFS', xy=(0.3,0.5),xytext=(0.08, 0.5),textcoords='axes fraction')\n",
    "plt.xlabel(r'angle$^{\\circ}$')\n",
    "plt.xlim(0.0,360.0)\n",
    "plt.ylabel('Flux')\n",
    "plt.legend(loc=2)\n",
    "plt.show()\n"
   ]
  },
  {
   "cell_type": "code",
   "execution_count": 9,
   "metadata": {
    "collapsed": true
   },
   "outputs": [],
   "source": [
    "#top integral of a FSA of a nabla psi dot Q \n",
    "def Tokamak_Integral(Rarray,rarray,thetalist,weight):\n",
    "    #index of starting and ending angles. Assume that all four arrays have the same size\n",
    "    theta_start = 0\n",
    "    theta_end = len(thetalist)-1\n",
    "    prefactor = (thetalist[theta_end]-thetalist[theta_start])/(len(thetalist[theta_start:theta_end])-1)\n",
    "    #dr/dtheta\n",
    "    drdtheta = []\n",
    "    for i in range(1,theta_end):\n",
    "        drdtheta.append((rarray[i+1]-rarray[i-1])/(thetalist[i+1]-thetalist[i-1]))\n",
    "    #linear correction for first and last element of derivative list\n",
    "    dr2dtheta_start = (rarray[2]-2*rarray[1] + rarray[0])/(thetalist[2]-thetalist[0])**2\n",
    "    dr2dtheta_end = (rarray[theta_end]-2*rarray[theta_end-1] + rarray[theta_end-2])/(thetalist[theta_end]-thetalist[theta_end-2])**2\n",
    "    last_elem = drdtheta[-1] + dr2dtheta_end\n",
    "    drdtheta.append(last_elem)\n",
    "    first_elem = drdtheta[0] - dr2dtheta_start\n",
    "    a = first_elem\n",
    "    drdtheta_new = [a]+drdtheta\n",
    "    der = np.asarray(drdtheta_new)\n",
    "    #Integration scheme of the full square root \n",
    "    temp = weight*rarray*Rarray*np.sqrt(1 + (1/np.power(rarray,2))*np.power(der,2))\n",
    "    Summation = (1/2)*weight[theta_start]*rarray[theta_start]*Rarray[theta_start]*np.sqrt(1+(1/rarray[theta_start]**2)*der[theta_start]**2) +\\\n",
    "    (1/2)*weight[theta_end]*rarray[theta_end]*Rarray[theta_end]*np.sqrt(1+(1/rarray[theta_end]**2)*der[theta_end]**2) +\\\n",
    "    np.sum(temp[theta_start+1:theta_end-2])\n",
    "    Integral = 2*np.pi*prefactor*Summation\n",
    "    #print(\"Integral = \",Integral)\n",
    "    return Integral"
   ]
  },
  {
   "cell_type": "code",
   "execution_count": 10,
   "metadata": {
    "collapsed": true
   },
   "outputs": [],
   "source": [
    "#top integral of a FSA of a nabla psi dot Q \n",
    "def FSA_Integral(Bp, rarray,thetalist,weight):\n",
    "    #index of starting and ending angles. Assume that all four arrays have the same size\n",
    "    theta_start = 0\n",
    "    theta_end = len(thetalist)-1\n",
    "    Bpinv = np.asarray([1/x for x in Bp])\n",
    "    prefactor = (thetalist[theta_end]-thetalist[theta_start])/(len(thetalist[theta_start:theta_end])-1)\n",
    "    #dr/dtheta\n",
    "    drdtheta = []\n",
    "    for i in range(1,theta_end):\n",
    "        drdtheta.append((rarray[i+1]-rarray[i-1])/(thetalist[i+1]-thetalist[i-1]))\n",
    "    #linear correction for first and last element of derivative list\n",
    "    dr2dtheta_start = (rarray[2]-2*rarray[1] + rarray[0])/(thetalist[2]-thetalist[0])**2\n",
    "    dr2dtheta_end = (rarray[theta_end]-2*rarray[theta_end-1] + rarray[theta_end-2])/(thetalist[theta_end]-thetalist[theta_end-2])**2\n",
    "    last_elem = drdtheta[-1] + dr2dtheta_end\n",
    "    drdtheta.append(last_elem)\n",
    "    first_elem = drdtheta[0] - dr2dtheta_start\n",
    "    a = first_elem\n",
    "    drdtheta_new = [a]+drdtheta\n",
    "    der = np.asarray(drdtheta_new)\n",
    "    #Integration scheme of the full square root \n",
    "    temp = weight*rarray*Bpinv*np.sqrt(1 + (1/np.power(rarray,2))*np.power(der,2))\n",
    "    Summation = (1/2)*weight[theta_start]*rarray[theta_start]*Bpinv[theta_start]*np.sqrt(1+(1/rarray[theta_start]**2)*der[theta_start]**2) +\\\n",
    "    (1/2)*weight[theta_end]*rarray[theta_end]*Bpinv[theta_end]*np.sqrt(1+(1/rarray[theta_end]**2)*der[theta_end]**2) +\\\n",
    "    np.sum(temp[theta_start+1:theta_end-2])\n",
    "    Integral = 2*np.pi*prefactor*Summation\n",
    "    #print(\"Integral = \",Integral)\n",
    "    return Integral"
   ]
  },
  {
   "cell_type": "code",
   "execution_count": 11,
   "metadata": {
    "collapsed": true
   },
   "outputs": [],
   "source": [
    "def Normalization(Bp,rarray,thetalist):\n",
    "    #index of starting and ending angles. Assume that all four arrays have the same size\n",
    "    weight = np.ones(len(thetalist))\n",
    "    Bpinv = np.asarray([1/x for x in Bp])\n",
    "    theta_start = 0\n",
    "    theta_end = len(thetalist)-1\n",
    "    prefactor = (thetalist[theta_end]-thetalist[theta_start])/(len(thetalist[theta_start:theta_end])-1)\n",
    "    #dr/dtheta\n",
    "    drdtheta = []\n",
    "    for i in range(1,theta_end):\n",
    "        drdtheta.append((rarray[i+1]-rarray[i-1])/(thetalist[i+1]-thetalist[i-1]))\n",
    "    #linear correction for first and last element of derivative list\n",
    "    dr2dtheta_start = (rarray[2]-2*rarray[1] + rarray[0])/(thetalist[2]-thetalist[0])**2\n",
    "    dr2dtheta_end = (rarray[theta_end]-2*rarray[theta_end-1] + rarray[theta_end-2])/(thetalist[theta_end]-thetalist[theta_end-2])**2\n",
    "    last_elem = drdtheta[-1] + dr2dtheta_end\n",
    "    drdtheta.append(last_elem)\n",
    "    first_elem = drdtheta[0] - dr2dtheta_start\n",
    "    a = first_elem\n",
    "    drdtheta_new = [a]+drdtheta\n",
    "    der = np.asarray(drdtheta_new)\n",
    "    #Integration scheme of the full square root \n",
    "    temp = weight*rarray*Bpinv*np.sqrt(1 + (1/np.power(rarray,2))*np.power(der,2))\n",
    "    Summation = (1/2)*weight[theta_start]*rarray[theta_start]*Bpinv[theta_start]*np.sqrt(1+(1/rarray[theta_start]**2)*der[theta_start]**2) +\\\n",
    "    (1/2)*weight[theta_end]*rarray[theta_end]*Bpinv[theta_end]*np.sqrt(1+(1/rarray[theta_end]**2)*der[theta_end]**2) +\\\n",
    "    np.sum(temp[theta_start+1:theta_end-2])\n",
    "    Integral = 2*np.pi*prefactor*Summation\n",
    "    #print(\"Integral = \",Integral)\n",
    "    return Integral"
   ]
  },
  {
   "cell_type": "code",
   "execution_count": 12,
   "metadata": {
    "collapsed": true
   },
   "outputs": [],
   "source": [
    "def major_R(R_value,Z_value):\n",
    "    Rnorm = []#returning the R-distance for the integral function. This is the r-distance from the center of the tokamak to the flux point. \n",
    "    for r,z in zip(R_value,Z_value):\n",
    "        Rnorm.append(r**2 + z**2)\n",
    "    #Returning the distance from the axis of the tokamak for the R dzeta part of the integral.\n",
    "    R = [x + 1.67 for x in R_value]\n",
    "    return Rnorm, R\n",
    "r,R = major_R(R_s,Z_s)"
   ]
  },
  {
   "cell_type": "code",
   "execution_count": 19,
   "metadata": {},
   "outputs": [
    {
     "name": "stdout",
     "output_type": "stream",
     "text": [
      "Magnetic Particle sink =  -4.47348987758e+23\n"
     ]
    }
   ],
   "source": [
    "#particle sink accross the separatrix\n",
    "#Equilibrium_Particle_Flux = Tokamak_Integral(R[0:360],r[0:360],angle[0:360],SEq[0:360])\n",
    "#Turbulent_Particle_Flux = Tokamak_Integral(R[0:360],r[0:360],angle[0:360],STur[0:360])\n",
    "Magnetic_Particle_Flux = Tokamak_Integral(R[0:360],r[0:360],angle_s[0:360],np.asarray(SMag[0:360]))\n",
    "#Geometric_Magnetic_Particle_Flux = Tokamak_Integral(R[0:360],r[0:360],angle[0:360],Mag_geom[0:360])\n",
    "#print(\"Equilibrium Particle sink = \",Equilibrium_Particle_Flux)\n",
    "#print(\"Turbulent Particle sink = \",Turbulent_Particle_Flux)\n",
    "print(\"Magnetic Particle sink = \",Magnetic_Particle_Flux)\n",
    "#print(\"Geometric Magnetic Particle sink = \",Geometric_Magnetic_Particle_Flux)"
   ]
  },
  {
   "cell_type": "code",
   "execution_count": 18,
   "metadata": {},
   "outputs": [
    {
     "name": "stdout",
     "output_type": "stream",
     "text": [
      "Magnetic grad FSA =  -8.14495948107e+19\n",
      "cancellation Magnetic =  -0.0218145574766\n"
     ]
    }
   ],
   "source": [
    "#FSA <Q grad\\psi>\n",
    "normalization = Normalization(Bp[0:360],r[0:360],angle_s[0:360])\n",
    "#Equilibrium_grad_FSA = Tokamak_Integral(R[0:360],r[0:360],angle[0:360],SEq[0:360])/normalization\n",
    "#Turbulent_grad_FSA = Tokamak_Integral(R[0:360],r[0:360],angle[0:360],STur[0:360])/normalization\n",
    "Magnetic_grad_FSA = Tokamak_Integral(R[0:360],r[0:360],angle_s[0:360],SMag[0:360])/normalization\n",
    "#Geometric_Magnetic_grad_FSA = Tokamak_Integral(R[0:360],r[0:360],angle[0:360],SMag_geom[0:360])/normalization\n",
    "#print(\"Equilibrium grad FSA = \",Equilibrium_grad_FSA)\n",
    "#print(\"Turbulent grad FSA = \",Turbulent_grad_FSA)\n",
    "print(\"Magnetic grad FSA = \",Magnetic_grad_FSA)\n",
    "#print(\"Geometric Magnetic grad FSA = \",Geometric_Magnetic_grad_FSA)\n",
    "#print(\"cancellation Equilibrium = \",Equilibrium_grad_FSA/max(SEq))\n",
    "#print(\"cancellation Turbulent = \",Turbulent_grad_FSA/max(STur))\n",
    "print(\"cancellation Magnetic = \",Magnetic_grad_FSA/max(SMag))\n",
    "#print(\"cancellation Geometric Magnetic = \",Geometric_Magnetic_grad_FSA/max(SMag_geom))"
   ]
  },
  {
   "cell_type": "code",
   "execution_count": 20,
   "metadata": {},
   "outputs": [
    {
     "name": "stdout",
     "output_type": "stream",
     "text": [
      "Magnetic FSA =  7.57235005245e+20\n",
      "cancellation Magnetic =  0.202809437955\n"
     ]
    }
   ],
   "source": [
    "#FSA\n",
    "#Equilibrium_FSA = FSA_Integral(Bp[0:360],r[0:360],angle[0:360],SEq[0:360])/normalization\n",
    "#Turbulent_FSA = FSA_Integral(Bp[0:360],r[0:360],angle[0:360],STur[0:360])/normalization\n",
    "Magnetic_FSA = FSA_Integral(Bp[0:360],r[0:360],angle_s[0:360],SMag[0:360])/normalization\n",
    "#Geometric_Magnetic_FSA = FSA_Integral(Bp[0:360],r[0:360],angle[0:360], SMag_geom[0:360])/normalization\n",
    "#print(\"Equilibrium FSA = \",Equilibrium_FSA)\n",
    "#print(\"Turbulent FSA = \",Turbulent_FSA)\n",
    "print(\"Magnetic FSA = \",Magnetic_FSA)\n",
    "#print(\"Geometric Magnetic FSA = \",Geometric_Magnetic_FSA)\n",
    "#print(\"cancellation Equilibrium = \",Equilibrium_FSA/max(SEq))\n",
    "#print(\"cancellation Turbulent = \",Turbulent_FSA/max(STur))\n",
    "print(\"cancellation Magnetic = \",Magnetic_FSA/max(SMag))\n",
    "#print(\"cancellation Geometric Magnetic = \",Geometric_Magnetic_FSA/max(SMag_geom))"
   ]
  },
  {
   "cell_type": "code",
   "execution_count": 42,
   "metadata": {},
   "outputs": [
    {
     "name": "stdout",
     "output_type": "stream",
     "text": [
      "Stag_Equilibrium =  -2.04142983525e+23\n",
      "Stag_Turbulent =  -3.64656044113e+22\n",
      "Stag_Magnetic =  3.29159612644e+23\n"
     ]
    }
   ],
   "source": [
    "print(\"Stag_Equilibrium = \",Tokamak_Integral(stag_R[0:240],stag_r[0:240],stag_angle[0:240],stag_SEq[0:240]))\n",
    "print(\"Stag_Turbulent = \",Tokamak_Integral(stag_R[0:240],stag_r[0:240],stag_angle[0:240],stag_STur[0:240]))\n",
    "print(\"Stag_Magnetic = \",Tokamak_Integral(stag_R[0:240],stag_r[0:240],stag_angle[0:240],stag_SMag[0:240]))"
   ]
  },
  {
   "cell_type": "code",
   "execution_count": null,
   "metadata": {
    "collapsed": true
   },
   "outputs": [],
   "source": []
  }
 ],
 "metadata": {
  "kernelspec": {
   "display_name": "Python [default]",
   "language": "python",
   "name": "python3"
  },
  "language_info": {
   "codemirror_mode": {
    "name": "ipython",
    "version": 3
   },
   "file_extension": ".py",
   "mimetype": "text/x-python",
   "name": "python",
   "nbconvert_exporter": "python",
   "pygments_lexer": "ipython3",
   "version": "3.5.2"
  }
 },
 "nbformat": 4,
 "nbformat_minor": 1
}
