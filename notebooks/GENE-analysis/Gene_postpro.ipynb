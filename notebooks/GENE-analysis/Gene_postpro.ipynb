{
 "cells": [
  {
   "cell_type": "code",
   "execution_count": 4,
   "metadata": {},
   "outputs": [],
   "source": [
    "import numpy as np\n",
    "import math\n",
    "import pylab as py\n",
    "import matplotlib.pyplot as plt\n",
    "import sys\n",
    "import glob\n",
    "import os\n",
    "from shutil import copyfile\n",
    "import subprocess"
   ]
  },
  {
   "cell_type": "code",
   "execution_count": 3,
   "metadata": {},
   "outputs": [
    {
     "ename": "FileNotFoundError",
     "evalue": "[Errno 2] No such file or directory: '/global/cscratch1/sd/giannos/gene/base/0.05/omega.dat'",
     "output_type": "error",
     "traceback": [
      "\u001b[0;31m\u001b[0m",
      "\u001b[0;31mFileNotFoundError\u001b[0mTraceback (most recent call last)",
      "\u001b[0;32m<ipython-input-3-3b4553670259>\u001b[0m in \u001b[0;36m<module>\u001b[0;34m()\u001b[0m\n\u001b[0;32m----> 1\u001b[0;31m \u001b[0mos\u001b[0m\u001b[0;34m.\u001b[0m\u001b[0mstat\u001b[0m\u001b[0;34m(\u001b[0m\u001b[0;34m\"/global/cscratch1/sd/giannos/gene/base/0.05/omega.dat\"\u001b[0m\u001b[0;34m)\u001b[0m\u001b[0;34m.\u001b[0m\u001b[0mst_size\u001b[0m\u001b[0;34m\u001b[0m\u001b[0m\n\u001b[0m",
      "\u001b[0;31mFileNotFoundError\u001b[0m: [Errno 2] No such file or directory: '/global/cscratch1/sd/giannos/gene/base/0.05/omega.dat'"
     ]
    }
   ],
   "source": [
    "os.stat(\"/global/cscratch1/sd/giannos/gene/base/0.05/omega.dat\").st_size"
   ]
  },
  {
   "cell_type": "code",
   "execution_count": 5,
   "metadata": {},
   "outputs": [
    {
     "ename": "FileNotFoundError",
     "evalue": "[Errno 2] No such file or directory: '/global/cscratch1/sd/giannos/gene/base/0.05/omega.dat'",
     "output_type": "error",
     "traceback": [
      "\u001b[0;31m\u001b[0m",
      "\u001b[0;31mFileNotFoundError\u001b[0mTraceback (most recent call last)",
      "\u001b[0;32m<ipython-input-5-47c0e57d1676>\u001b[0m in \u001b[0;36m<module>\u001b[0;34m()\u001b[0m\n\u001b[0;32m----> 1\u001b[0;31m \u001b[0mf\u001b[0m\u001b[0;34m=\u001b[0m\u001b[0mopen\u001b[0m\u001b[0;34m(\u001b[0m\u001b[0;34m\"/global/cscratch1/sd/giannos/gene/base/0.05/omega.dat\"\u001b[0m\u001b[0;34m,\u001b[0m\u001b[0;34m'r'\u001b[0m\u001b[0;34m)\u001b[0m\u001b[0;34m\u001b[0m\u001b[0m\n\u001b[0m",
      "\u001b[0;31mFileNotFoundError\u001b[0m: [Errno 2] No such file or directory: '/global/cscratch1/sd/giannos/gene/base/0.05/omega.dat'"
     ]
    }
   ],
   "source": [
    "f=open(\"/global/cscratch1/sd/giannos/gene/base/0.05/omega.dat\",'r')"
   ]
  },
  {
   "cell_type": "code",
   "execution_count": 2,
   "metadata": {},
   "outputs": [],
   "source": [
    "ky = np.arange(0.05,0.35,0.05)"
   ]
  },
  {
   "cell_type": "code",
   "execution_count": 10,
   "metadata": {},
   "outputs": [
    {
     "data": {
      "text/plain": [
       "0.29999999999999999"
      ]
     },
     "execution_count": 10,
     "metadata": {},
     "output_type": "execute_result"
    }
   ],
   "source": [
    "ky[5]"
   ]
  },
  {
   "cell_type": "code",
   "execution_count": 76,
   "metadata": {},
   "outputs": [
    {
     "data": {
      "text/plain": [
       "0"
      ]
     },
     "execution_count": 76,
     "metadata": {},
     "output_type": "execute_result"
    }
   ],
   "source": [
    "os.chdir('/global/homes/g/giannos/GENE/genecode')\n",
    "os.getcwd()\n",
    "os.system(\"cp submit.cmd sub2\")"
   ]
  },
  {
   "cell_type": "code",
   "execution_count": null,
   "metadata": {},
   "outputs": [],
   "source": [
    "copyfile(\"/global/homes/g/giannos/GENE/genecode/prob03/parameters\",\"/global/homes/g/giannos/GENE/genecode/test_dir/parameters\")"
   ]
  },
  {
   "cell_type": "code",
   "execution_count": 36,
   "metadata": {},
   "outputs": [],
   "source": [
    "f = open('/global/homes/g/giannos/GENE/genecode/prob09/parameters','r')\n",
    "lines=f.readlines()\n",
    "lines[18] = 'kymin = 0.3\\n'\n",
    "lines[27] = 'diagdir = \"/global/homes/g/giannos/GENE/genecode/prob09/\"\\n'\n",
    "lines[79] = 'omt = 10.0\\n'\n",
    "lines[81] = 'omn = 100.00\\n'\n",
    "lines[90] = 'omt = 30.0\\n'\n",
    "lines[92] = 'omn = 100.00\\n'\n",
    "f.close()\n",
    "f = open('/global/homes/g/giannos/GENE/genecode/prob09/parameters','w')\n",
    "f.writelines(lines)\n",
    "f.close()"
   ]
  },
  {
   "cell_type": "code",
   "execution_count": 33,
   "metadata": {},
   "outputs": [
    {
     "data": {
      "text/plain": [
       "'!n_procs_sim =      1\\n'"
      ]
     },
     "execution_count": 33,
     "metadata": {},
     "output_type": "execute_result"
    }
   ],
   "source": [
    "f = open('/global/homes/g/giannos/GENE/genecode/prob09/parameters','r+')\n",
    "lines=f.readlines()\n",
    "lines[18]"
   ]
  },
  {
   "cell_type": "code",
   "execution_count": 25,
   "metadata": {},
   "outputs": [
    {
     "data": {
      "text/plain": [
       "'kymin = 0.3\\n'"
      ]
     },
     "execution_count": 25,
     "metadata": {},
     "output_type": "execute_result"
    }
   ],
   "source": [
    "lines[18]"
   ]
  },
  {
   "cell_type": "code",
   "execution_count": 9,
   "metadata": {},
   "outputs": [],
   "source": [
    "%%capture\n",
    "\"Loop that creates all different cases. Replace print with the creation of directory.\"\n",
    "char_list=[\"B\",\"H\",\"D\"]\n",
    "for x in range(3):\n",
    "    for y in range(3):\n",
    "        for z in range(3):\n",
    "            print(char_list[x],char_list[y],char_list[z]);"
   ]
  },
  {
   "cell_type": "code",
   "execution_count": 38,
   "metadata": {},
   "outputs": [],
   "source": [
    "if not os.path.exists(\"/global/homes/g/giannos/GENE/genecode/test_dir2\"):\n",
    "    os.makedirs(\"/global/homes/g/giannos/GENE/genecode/test_dir2\")"
   ]
  },
  {
   "cell_type": "code",
   "execution_count": 15,
   "metadata": {},
   "outputs": [
    {
     "data": {
      "text/plain": [
       "'/global/homes/g/giannos/GENE/genecode/test_dir/parameters'"
      ]
     },
     "execution_count": 15,
     "metadata": {},
     "output_type": "execute_result"
    }
   ],
   "source": [
    "copyfile(\"/global/homes/g/giannos/GENE/genecode/prob03/parameters\",\"/global/homes/g/giannos/GENE/genecode/test_dir/parameters\")"
   ]
  },
  {
   "cell_type": "code",
   "execution_count": 65,
   "metadata": {},
   "outputs": [],
   "source": [
    "#create the directories and copy files in them\n",
    "char_list = [\"A\",\"B\"]\n",
    "omti_dict = {'A':'10.0', 'B':'20.0'}\n",
    "omte_dict = {'A':'30.0', 'B':'60.0'}\n",
    "ky_list = [0.05,0.1]\n",
    "for x in range(1):\n",
    "    for y in range(2):\n",
    "        if not os.path.exists(\"/global/homes/g/giannos/GENE/genecode/%s%s\" % (char_list[x],char_list[y])):\n",
    "            os.makedirs(\"/global/homes/g/giannos/GENE/genecode/%s%s\" % (char_list[x],char_list[y]))\n",
    "        for ky in range(2):\n",
    "            if not os.path.exists(\"/global/homes/g/giannos/GENE/genecode/%s%s/%s\" % (char_list[x],char_list[y],ky_list[ky])):\n",
    "                os.makedirs(\"/global/homes/g/giannos/GENE/genecode/%s%s/%s\" % (char_list[x],char_list[y],ky_list[ky]))\n",
    "                copyfile(\"/global/homes/g/giannos/GENE/genecode/prob06/parameters\",\"/global/homes/g/giannos/GENE/genecode/%s%s/%s/parameters\" % (char_list[x],char_list[y],ky_list[ky]))\n",
    "                copyfile(\"/global/homes/g/giannos/GENE/genecode/prob06/gene_cori\",\"/global/homes/g/giannos/GENE/genecode/%s%s/%s/gene_cori\" % (char_list[x],char_list[y],ky_list[ky]))\n",
    "                copyfile(\"/global/homes/g/giannos/GENE/genecode/prob06/scanscript\",\"/global/homes/g/giannos/GENE/genecode/%s%s/%s/scanscript\" % (char_list[x],char_list[y],ky_list[ky]))\n",
    "                copyfile(\"/global/homes/g/giannos/GENE/genecode/prob06/launcher.cmd\",\"/global/homes/g/giannos/GENE/genecode/%s%s/%s/launcher.cmd\" % (char_list[x],char_list[y],ky_list[ky]))\n",
    "                copyfile(\"/global/homes/g/giannos/GENE/genecode/prob06/submit.cmd\",\"/global/homes/g/giannos/GENE/genecode/%s%s/%s/submit.cmd\" % (char_list[x],char_list[y],ky_list[ky]))\n",
    "                copyfile(\"/global/homes/g/giannos/GENE/genecode/prob06/submit_knl.cmd\",\"/global/homes/g/giannos/GENE/genecode/%s%s/%s/submit_knl.cmd\" % (char_list[x],char_list[y],ky_list[ky]))\n",
    "                copyfile(\"/global/homes/g/giannos/GENE/genecode/prob06/runit.sh\",\"/global/homes/g/giannos/GENE/genecode/%s%s/%s/runit.sh\" % (char_list[x],char_list[y],ky_list[ky]))\n",
    "                f = open(\"/global/homes/g/giannos/GENE/genecode/%s%s/%s/parameters\" % (char_list[x],char_list[y],ky_list[ky]),'r')\n",
    "                lines=f.readlines()\n",
    "                lines[18] = 'kymin = '+ str(ky_list[ky])+'\\n'\n",
    "                lines[27] = 'diagdir = ' + \"/global/homes/g/giannos/GENE/genecode/%s%s/%s/parameters\" % (char_list[x],char_list[y],ky_list[ky])+\"\\n\"\n",
    "                lines[79] = 'omt = '+ str(omti_dict[char_list[x]]) + '\\n'\n",
    "                lines[81] = 'omn = 100.00\\n'\n",
    "                lines[90] = 'omt = '+ str(omte_dict[char_list[y]]) + '\\n'\n",
    "                lines[92] = 'omn = 100.00\\n'\n",
    "                f.close()\n",
    "                f = open(\"/global/homes/g/giannos/GENE/genecode/%s%s/%s/parameters\" % (char_list[x],char_list[y],ky_list[ky]),'w')\n",
    "                f.writelines(lines)\n",
    "                f.close()\n",
    "                os.chdir(\"/global/homes/g/giannos/GENE/genecode/%s%s/%s\" % (char_list[x],char_list[y],ky_list[ky]))\n",
    "                os.system(\"sbatch runit.sh\")"
   ]
  },
  {
   "cell_type": "code",
   "execution_count": 52,
   "metadata": {},
   "outputs": [
    {
     "name": "stdout",
     "output_type": "stream",
     "text": [
      "10.0\n"
     ]
    }
   ],
   "source": [
    "omti_dict = {'A':'10.0', 'B':'20.0'}\n",
    "char_list = ['A','B']\n",
    "print(omti_dict[char_list[0]])"
   ]
  },
  {
   "cell_type": "code",
   "execution_count": null,
   "metadata": {},
   "outputs": [],
   "source": []
  }
 ],
 "metadata": {
  "kernelspec": {
   "display_name": "Python 3",
   "language": "python",
   "name": "python3"
  },
  "language_info": {
   "codemirror_mode": {
    "name": "ipython",
    "version": 3
   },
   "file_extension": ".py",
   "mimetype": "text/x-python",
   "name": "python",
   "nbconvert_exporter": "python",
   "pygments_lexer": "ipython3",
   "version": "3.6.4"
  }
 },
 "nbformat": 4,
 "nbformat_minor": 2
}
